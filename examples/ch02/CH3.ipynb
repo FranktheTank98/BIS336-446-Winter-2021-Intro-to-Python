{
 "cells": [
  {
   "cell_type": "code",
   "execution_count": 1,
   "id": "32e2e034-6776-40b6-b955-3cb36755df60",
   "metadata": {},
   "outputs": [],
   "source": [
    "grade = 85"
   ]
  },
  {
   "cell_type": "code",
   "execution_count": 2,
   "id": "cc5e02d5-b478-422d-ab11-ae4f20546ea8",
   "metadata": {},
   "outputs": [
    {
     "name": "stdout",
     "output_type": "stream",
     "text": [
      "Passed\n"
     ]
    }
   ],
   "source": [
    "if grade >= 60:\n",
    "    print('Passed')"
   ]
  },
  {
   "cell_type": "code",
   "execution_count": 4,
   "id": "e4c9d660-729f-476b-b7e1-b22c2b9eea8b",
   "metadata": {},
   "outputs": [
    {
     "name": "stdout",
     "output_type": "stream",
     "text": [
      "passed\n"
     ]
    }
   ],
   "source": [
    "grade = 85\n",
    "if grade >= 60:\n",
    "    print('passed')\n",
    "else:\n",
    "    print('failed')"
   ]
  },
  {
   "cell_type": "code",
   "execution_count": 5,
   "id": "a16321fd-5e6f-4f5f-9361-82f289c84300",
   "metadata": {},
   "outputs": [],
   "source": [
    "grade = 87\n",
    "if grade >= 60:\n",
    "    result = 'passed'\n",
    "else:\n",
    "    result = 'failed'"
   ]
  },
  {
   "cell_type": "code",
   "execution_count": 6,
   "id": "a8ca99bb-adcb-41de-ab5a-4a36fd1927df",
   "metadata": {},
   "outputs": [
    {
     "data": {
      "text/plain": [
       "'passed'"
      ]
     },
     "execution_count": 6,
     "metadata": {},
     "output_type": "execute_result"
    }
   ],
   "source": [
    "result"
   ]
  },
  {
   "cell_type": "code",
   "execution_count": 7,
   "id": "5bdb1b91-ea06-420b-b067-e4c084a0aca4",
   "metadata": {},
   "outputs": [],
   "source": [
    "result = ('passed' if grade >= 60 else 'failed')"
   ]
  },
  {
   "cell_type": "code",
   "execution_count": 8,
   "id": "a8ae1255-408b-47b3-af11-7b4b80b1c16b",
   "metadata": {},
   "outputs": [
    {
     "data": {
      "text/plain": [
       "'passed'"
      ]
     },
     "execution_count": 8,
     "metadata": {},
     "output_type": "execute_result"
    }
   ],
   "source": [
    "result"
   ]
  },
  {
   "cell_type": "code",
   "execution_count": 9,
   "id": "3f13760e-0829-4053-8d47-2b46ff76181c",
   "metadata": {},
   "outputs": [
    {
     "name": "stdout",
     "output_type": "stream",
     "text": [
      "Failed\n",
      "You must take this course again\n"
     ]
    }
   ],
   "source": [
    "grade = 49\n",
    "if grade >= 60:\n",
    "    print('Passed')\n",
    "else:\n",
    "    print('Failed')\n",
    "    print('You must take this course again')"
   ]
  },
  {
   "cell_type": "code",
   "execution_count": 10,
   "id": "3ceedcbb-ed25-4eb2-aefe-107d17a746f1",
   "metadata": {},
   "outputs": [
    {
     "name": "stdout",
     "output_type": "stream",
     "text": [
      "Passed\n",
      "You must take this couese again\n"
     ]
    }
   ],
   "source": [
    "grade = 100\n",
    "if grade >= 60:\n",
    "    print('Passed')\n",
    "else:\n",
    "    print('Failed')\n",
    "print ('You must take this couese again')"
   ]
  },
  {
   "cell_type": "code",
   "execution_count": 11,
   "id": "2547cee7-8c93-478e-bda8-2a734b55f837",
   "metadata": {},
   "outputs": [],
   "source": [
    "product = 3\n",
    "while product <= 50:\n",
    "    product = product * 3"
   ]
  },
  {
   "cell_type": "code",
   "execution_count": 12,
   "id": "e6e2395b-968a-4a11-af09-15be93177be6",
   "metadata": {},
   "outputs": [
    {
     "data": {
      "text/plain": [
       "81"
      ]
     },
     "execution_count": 12,
     "metadata": {},
     "output_type": "execute_result"
    }
   ],
   "source": [
    "product"
   ]
  },
  {
   "cell_type": "code",
   "execution_count": 14,
   "id": "45300508-cd7d-4c9c-b385-10257dcc7241",
   "metadata": {},
   "outputs": [
    {
     "name": "stdout",
     "output_type": "stream",
     "text": [
      "P  r  o  g  r  a  m  m  i  n  g  "
     ]
    }
   ],
   "source": [
    "for character in 'Programming':\n",
    "    print(character, end='  ')"
   ]
  },
  {
   "cell_type": "code",
   "execution_count": 15,
   "id": "8902172e-78bd-44ee-b57b-576bfa60fd0e",
   "metadata": {},
   "outputs": [],
   "source": [
    "total = 0\n",
    "for number in [2, -3, 0, 17, 9]:\n",
    "    total = total + number"
   ]
  },
  {
   "cell_type": "code",
   "execution_count": 16,
   "id": "b26fe60d-e358-4028-b1a7-1a9a7c53384e",
   "metadata": {},
   "outputs": [
    {
     "data": {
      "text/plain": [
       "25"
      ]
     },
     "execution_count": 16,
     "metadata": {},
     "output_type": "execute_result"
    }
   ],
   "source": [
    "total"
   ]
  },
  {
   "cell_type": "code",
   "execution_count": 18,
   "id": "8384016f-ece4-4f51-9f55-fed7e7ab5588",
   "metadata": {},
   "outputs": [
    {
     "name": "stdout",
     "output_type": "stream",
     "text": [
      "0 1 2 3 4 5 6 7 8 9 "
     ]
    }
   ],
   "source": [
    "for counter in range(10):\n",
    "    print(counter, end=' ')"
   ]
  },
  {
   "cell_type": "code",
   "execution_count": 19,
   "id": "d95b67bb-20d5-43d7-bcce-34fe94d1bcfc",
   "metadata": {},
   "outputs": [],
   "source": [
    "total = 0\n",
    "for number in [1, 2, 3, 4, 5]:\n",
    "    total += number # add number to total and store in number\n"
   ]
  },
  {
   "cell_type": "code",
   "execution_count": 20,
   "id": "9ef1f588-2f57-46e3-86fb-4a4554402bed",
   "metadata": {},
   "outputs": [
    {
     "data": {
      "text/plain": [
       "15"
      ]
     },
     "execution_count": 20,
     "metadata": {},
     "output_type": "execute_result"
    }
   ],
   "source": [
    "total"
   ]
  },
  {
   "cell_type": "code",
   "execution_count": 21,
   "id": "1800d204-571b-456e-bd18-4062be7bef55",
   "metadata": {},
   "outputs": [],
   "source": [
    "x = 12\n",
    "x **= 2"
   ]
  },
  {
   "cell_type": "code",
   "execution_count": 22,
   "id": "c0ac060a-7e63-439c-9753-64f936a9b2cb",
   "metadata": {},
   "outputs": [
    {
     "data": {
      "text/plain": [
       "144"
      ]
     },
     "execution_count": 22,
     "metadata": {},
     "output_type": "execute_result"
    }
   ],
   "source": [
    "x"
   ]
  },
  {
   "cell_type": "code",
   "execution_count": 23,
   "id": "adc63584-8204-45bd-ba90-634cd52c9226",
   "metadata": {},
   "outputs": [
    {
     "name": "stdout",
     "output_type": "stream",
     "text": [
      "Class average is 81.7\n"
     ]
    }
   ],
   "source": [
    "# fig03_01.py\n",
    "\"\"\"Class average program with sequence-controlled repetition.\"\"\"\n",
    "\n",
    "# initialization phase\n",
    "total = 0  # sum of grades\n",
    "grade_counter = 0\n",
    "grades = [98, 76, 71, 87, 83, 90, 57, 79, 82, 94]  # list of 10 grades\n",
    "\n",
    "# processing phase\n",
    "for grade in grades:  \n",
    "    total += grade  # add current grade to the running total\n",
    "    grade_counter += 1  # indicate that one more grade was processed\n",
    "\n",
    "# termination phase\n",
    "average = total / grade_counter\n",
    "print(f'Class average is {average}')\n"
   ]
  },
  {
   "cell_type": "code",
   "execution_count": 24,
   "id": "212676b0-1ce1-438a-bb7c-0893b8b25dcd",
   "metadata": {},
   "outputs": [
    {
     "name": "stdin",
     "output_type": "stream",
     "text": [
      "Enter grade, -1 to end:  97\n",
      "Enter grade, -1 to end:  88\n",
      "Enter grade, -1 to end:  72\n",
      "Enter grade, -1 to end:  -1\n"
     ]
    },
    {
     "name": "stdout",
     "output_type": "stream",
     "text": [
      "Class average is 85.67\n"
     ]
    }
   ],
   "source": [
    "# fig03_02.py\n",
    "\"\"\"Class average program with sentinel-controlled iteration.\"\"\"\n",
    "\n",
    "# initialization phase\n",
    "total = 0  # sum of grades\n",
    "grade_counter = 0  # number of grades entered\n",
    "\n",
    "# processing phase\n",
    "grade = int(input('Enter grade, -1 to end: '))  # get one grade\n",
    "\n",
    "while grade != -1:\n",
    "    total += grade\n",
    "    grade_counter += 1\n",
    "    grade = int(input('Enter grade, -1 to end: '))\n",
    "\n",
    "# termination phase\n",
    "if grade_counter != 0:\n",
    "    average = total / grade_counter\n",
    "    print(f'Class average is {average:.2f}')\n",
    "else:\n",
    "    print('No grades were entered')"
   ]
  },
  {
   "cell_type": "code",
   "execution_count": 25,
   "id": "145dccf0-136e-4dd4-ab1e-49367311fe9d",
   "metadata": {},
   "outputs": [
    {
     "name": "stdin",
     "output_type": "stream",
     "text": [
      "Enter result (1=pass, 2=fail):  1\n",
      "Enter result (1=pass, 2=fail):  2\n",
      "Enter result (1=pass, 2=fail):  2\n",
      "Enter result (1=pass, 2=fail):  1\n",
      "Enter result (1=pass, 2=fail):  1\n",
      "Enter result (1=pass, 2=fail):  1\n",
      "Enter result (1=pass, 2=fail):  2\n",
      "Enter result (1=pass, 2=fail):  1\n",
      "Enter result (1=pass, 2=fail):  1\n",
      "Enter result (1=pass, 2=fail):  2\n"
     ]
    },
    {
     "name": "stdout",
     "output_type": "stream",
     "text": [
      "Passed: 6\n",
      "Failed: 4\n"
     ]
    }
   ],
   "source": [
    "# fig03_03.py\n",
    "\"\"\"Using nested control statements to analyze examination results.\"\"\"\n",
    "\n",
    "# initialize variables\n",
    "passes = 0  # number of passes\n",
    "failures = 0  # number of failures\n",
    "\n",
    "# process 10 students\n",
    "for student in range(10):\n",
    "    # get one exam result\n",
    "    result = int(input('Enter result (1=pass, 2=fail): '))\n",
    "\n",
    "    if result == 1:\n",
    "        passes = passes + 1\n",
    "    else:\n",
    "        failures = failures + 1\n",
    "\n",
    "# termination phase\n",
    "print('Passed:', passes)\n",
    "print('Failed:', failures)\n",
    "\n",
    "if passes > 8:\n",
    "    print('Bonus to instructor')"
   ]
  },
  {
   "cell_type": "code",
   "execution_count": 26,
   "id": "499ca811-d519-4c53-b683-abd2dd68336f",
   "metadata": {},
   "outputs": [
    {
     "name": "stdin",
     "output_type": "stream",
     "text": [
      "Enter result (1=pass, 2=fail):  1\n",
      "Enter result (1=pass, 2=fail):  1\n",
      "Enter result (1=pass, 2=fail):  1\n",
      "Enter result (1=pass, 2=fail):  1\n",
      "Enter result (1=pass, 2=fail):  2\n",
      "Enter result (1=pass, 2=fail):  1\n",
      "Enter result (1=pass, 2=fail):  1\n",
      "Enter result (1=pass, 2=fail):  1\n",
      "Enter result (1=pass, 2=fail):  1\n",
      "Enter result (1=pass, 2=fail):  1\n"
     ]
    },
    {
     "name": "stdout",
     "output_type": "stream",
     "text": [
      "Passed: 9\n",
      "Failed: 1\n",
      "Bonus to instructor\n"
     ]
    }
   ],
   "source": [
    "# fig03_03.py\n",
    "\"\"\"Using nested control statements to analyze examination results.\"\"\"\n",
    "\n",
    "# initialize variables\n",
    "passes = 0  # number of passes\n",
    "failures = 0  # number of failures\n",
    "\n",
    "# process 10 students\n",
    "for student in range(10):\n",
    "    # get one exam result\n",
    "    result = int(input('Enter result (1=pass, 2=fail): '))\n",
    "\n",
    "    if result == 1:\n",
    "        passes = passes + 1\n",
    "    else:\n",
    "        failures = failures + 1\n",
    "\n",
    "# termination phase\n",
    "print('Passed:', passes)\n",
    "print('Failed:', failures)\n",
    "\n",
    "if passes > 8:\n",
    "    print('Bonus to instructor')"
   ]
  },
  {
   "cell_type": "code",
   "execution_count": 27,
   "id": "092d48df-175e-48c5-8cc4-78ae2e7677b1",
   "metadata": {},
   "outputs": [
    {
     "name": "stdout",
     "output_type": "stream",
     "text": [
      "5 6 7 8 9 "
     ]
    }
   ],
   "source": [
    "for number in range(5, 10):\n",
    "    print(number, end=' ')"
   ]
  },
  {
   "cell_type": "code",
   "execution_count": 28,
   "id": "c739db7b-84ab-4818-b63f-eb4f90bf3f9e",
   "metadata": {},
   "outputs": [
    {
     "name": "stdout",
     "output_type": "stream",
     "text": [
      "0  2  4  6  8  "
     ]
    }
   ],
   "source": [
    "for number in range(0, 10, 2):\n",
    "    print(number, end='  ')"
   ]
  },
  {
   "cell_type": "code",
   "execution_count": 29,
   "id": "bacc22ae-64a1-465a-9641-480e3eda9e0d",
   "metadata": {},
   "outputs": [
    {
     "name": "stdout",
     "output_type": "stream",
     "text": [
      "112.31\n"
     ]
    }
   ],
   "source": [
    "amount = 112.31\n",
    "print(amount)"
   ]
  },
  {
   "cell_type": "code",
   "execution_count": 30,
   "id": "b3039a4a-cf2c-4461-ae66-85612fa13a9e",
   "metadata": {},
   "outputs": [
    {
     "name": "stdout",
     "output_type": "stream",
     "text": [
      "112.31000000000000227374\n"
     ]
    }
   ],
   "source": [
    "print(f'{amount:.20f}')"
   ]
  },
  {
   "cell_type": "code",
   "execution_count": null,
   "id": "ad363d39-47d1-4a0f-bf9e-9d9c5095d460",
   "metadata": {},
   "outputs": [],
   "source": []
  }
 ],
 "metadata": {
  "kernelspec": {
   "display_name": "Python 3 (ipykernel)",
   "language": "python",
   "name": "python3"
  },
  "language_info": {
   "codemirror_mode": {
    "name": "ipython",
    "version": 3
   },
   "file_extension": ".py",
   "mimetype": "text/x-python",
   "name": "python",
   "nbconvert_exporter": "python",
   "pygments_lexer": "ipython3",
   "version": "3.9.12"
  }
 },
 "nbformat": 4,
 "nbformat_minor": 5
}
